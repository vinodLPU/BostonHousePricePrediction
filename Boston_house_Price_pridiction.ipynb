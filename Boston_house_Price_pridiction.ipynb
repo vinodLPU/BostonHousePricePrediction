{
 "cells": [
  {
   "cell_type": "code",
   "execution_count": 1,
   "id": "31c91692",
   "metadata": {},
   "outputs": [],
   "source": [
    "import numpy as np\n",
    "# load the dataset\n",
    "dataset = np.loadtxt('housing.csv')\n",
    "dataset_x = dataset[:, :-1]\n",
    "dataset_y = dataset[:, -1]"
   ]
  },
  {
   "cell_type": "code",
   "execution_count": null,
   "id": "6e071d47",
   "metadata": {},
   "outputs": [],
   "source": [
    "from sklearn.model_selection import train_test_split\n",
    "# split the dataset into training and test datasets.\n",
    "training_dataset_x, test_dataset_x, training_dataset_y, test_dataset_y = train_test_split(dataset_x, dataset_y, test_size=0.20)"
   ]
  },
  {
   "cell_type": "code",
   "execution_count": null,
   "id": "f918cbb9",
   "metadata": {},
   "outputs": [],
   "source": [
    "from sklearn.preprocessing import MinMaxScaler\n",
    "# apply min-max scaling\n",
    "mms = MinMaxScaler()\n",
    "mms.fit(training_dataset_x)\n",
    "training_dataset_x = mms.transform(training_dataset_x)\n",
    "test_dataset_x = mms.transform(test_dataset_x)"
   ]
  },
  {
   "cell_type": "code",
   "execution_count": null,
   "id": "a8af426a",
   "metadata": {},
   "outputs": [],
   "source": [
    "from tensorflow.keras.models import Sequential\n",
    "from tensorflow.keras.layers import Dense"
   ]
  },
  {
   "cell_type": "code",
   "execution_count": null,
   "id": "4b3314e5",
   "metadata": {},
   "outputs": [],
   "source": [
    "# create keras model and add the layers\n",
    "model = Sequential(name='BostonHousingPrices')\n",
    "model.add(Dense(100, input_dim = training_dataset_x.shape[1], activation='relu', name='Hidden-1'))\n",
    "model.add(Dense(100, activation='relu', name='Hidden-2'))\n",
    "model.add(Dense(1, activation='linear', name='Output'))"
   ]
  },
  {
   "cell_type": "code",
   "execution_count": null,
   "id": "d1296ae0",
   "metadata": {},
   "outputs": [],
   "source": [
    "# compile the model\n",
    "model.compile(optimizer='rmsprop', loss='mse', metrics=['mae'])"
   ]
  },
  {
   "cell_type": "code",
   "execution_count": null,
   "id": "359855ad",
   "metadata": {},
   "outputs": [],
   "source": [
    "# fit the model and assign it to 'hist' variable\n",
    "hist = model.fit(training_dataset_x, training_dataset_y, batch_size=32, epochs=100, validation_split=0.2)"
   ]
  },
  {
   "cell_type": "code",
   "execution_count": null,
   "id": "0c45bd8c",
   "metadata": {},
   "outputs": [],
   "source": [
    "# this part is for drawing the graphs\n",
    "import matplotlib.pyplot as plt"
   ]
  },
  {
   "cell_type": "code",
   "execution_count": null,
   "id": "62d45f9d",
   "metadata": {},
   "outputs": [],
   "source": [
    "figure = plt.gcf()\n",
    "figure.set_size_inches((15, 5))\n",
    "plt.title('Loss - Epoch Graphics')\n",
    "plt.xlabel('Epoch')\n",
    "plt.ylabel('Loss')\n",
    "plt.plot(range(1, len(hist.history['loss']) + 1), hist.history['loss'])\n",
    "plt.plot(range(1, len(hist.history['val_loss']) + 1), hist.history['val_loss'])\n",
    "plt.legend(['Loss', 'Validation Loss'])\n",
    "plt.show()"
   ]
  },
  {
   "cell_type": "code",
   "execution_count": null,
   "id": "b4dfdb86",
   "metadata": {},
   "outputs": [],
   "source": [
    "figure = plt.gcf()\n",
    "figure.set_size_inches((15, 5))\n",
    "plt.title('Mean Absolute Error - Epoch Graphics')\n",
    "plt.xlabel('Epoch')\n",
    "plt.ylabel('Mean Absolute Error')\n",
    "plt.plot(range(1, len(hist.history['mae']) + 1), hist.history['mae'])\n",
    "plt.plot(range(1, len(hist.history['val_mae']) + 1), hist.history['val_mae'])\n",
    "plt.legend(['Mean Absolute Error', 'Validation Mean Absolute Error'])\n",
    "plt.show()"
   ]
  },
  {
   "cell_type": "code",
   "execution_count": null,
   "id": "76b3624a",
   "metadata": {},
   "outputs": [],
   "source": [
    "# testing the model with using evaluate method\n",
    "test_result = model.evaluate(test_dataset_x, test_dataset_y)\n",
    "for i in range(len(test_result)):\n",
    "    print(f'{model.metrics_names[i]} ---> {test_result[i]}')"
   ]
  },
  {
   "cell_type": "code",
   "execution_count": null,
   "id": "8ff9e4ea",
   "metadata": {},
   "outputs": [],
   "source": [
    "# creating simple data group for the estimation part then predicting the results\n",
    "predict_data = np.array([0.63796, 0.00, 8.140, 0, 0.5380, 6.0960, 84.50, 4.4619, 4, 307.0, 21.00, 380.02, 10.26])\n",
    "predict_data = mms.transform(predict_data.reshape(1, -1))\n",
    "predict_result = model.predict(predict_data)\n",
    "print(f'Predicted result: {predict_result[0, 0]}')"
   ]
  },
  {
   "cell_type": "code",
   "execution_count": null,
   "id": "4c320eea",
   "metadata": {},
   "outputs": [],
   "source": []
  },
  {
   "cell_type": "code",
   "execution_count": null,
   "id": "50cf8740",
   "metadata": {},
   "outputs": [],
   "source": []
  }
 ],
 "metadata": {
  "kernelspec": {
   "display_name": "Python 3 (ipykernel)",
   "language": "python",
   "name": "python3"
  },
  "language_info": {
   "codemirror_mode": {
    "name": "ipython",
    "version": 3
   },
   "file_extension": ".py",
   "mimetype": "text/x-python",
   "name": "python",
   "nbconvert_exporter": "python",
   "pygments_lexer": "ipython3",
   "version": "3.9.7"
  }
 },
 "nbformat": 4,
 "nbformat_minor": 5
}
